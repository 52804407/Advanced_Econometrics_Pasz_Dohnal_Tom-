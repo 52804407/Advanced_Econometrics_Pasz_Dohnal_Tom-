{
  "cells": [
    {
      "cell_type": "markdown",
      "metadata": {},
      "source": [
        "# Advanced Econometrics (JEM217)– Home Assignment 1 (WS 2025)\n",
        "\n"
      ]
    },
    {
      "cell_type": "markdown",
      "metadata": {},
      "source": [
        "**AI Usage**\n",
        "\n",
        "ChatGPT-5 was used during the preparation of this assignment **solely for grammatical editing and minor code optimization**.  \n",
        "Any sections where AI-assisted code optimization was applied are explicitly indicated within the notebook.\n",
        "\n",
        "## Initial Preparation\n",
        "\n",
        "In this section, we install and load all required R packages necessary for data simulation, estimation, and visualization.  \n",
        "We also set a fixed random seed (`set.seed(123)`) to ensure that all simulated results are fully reproducible.\n"
      ]
    },
    {
      "cell_type": "code",
      "execution_count": 6,
      "metadata": {
        "vscode": {
          "languageId": "r"
        }
      },
      "outputs": [
        {
          "name": "stderr",
          "output_type": "stream",
          "text": [
            "Installing package into 'C:/Users/fazol/AppData/Local/R/win-library/4.4'\n",
            "(as 'lib' is unspecified)\n",
            "\n"
          ]
        },
        {
          "name": "stdout",
          "output_type": "stream",
          "text": [
            "package 'glm2' successfully unpacked and MD5 sums checked\n",
            "\n",
            "The downloaded binary packages are in\n",
            "\tC:\\Users\\fazol\\AppData\\Local\\Temp\\Rtmpori02v\\downloaded_packages\n"
          ]
        },
        {
          "name": "stderr",
          "output_type": "stream",
          "text": [
            "Warning message:\n",
            "\"package 'dplyr' was built under R version 4.4.3\"\n",
            "\n",
            "Attaching package: 'dplyr'\n",
            "\n",
            "\n",
            "The following objects are masked from 'package:stats':\n",
            "\n",
            "    filter, lag\n",
            "\n",
            "\n",
            "The following objects are masked from 'package:base':\n",
            "\n",
            "    intersect, setdiff, setequal, union\n",
            "\n",
            "\n",
            "Warning message:\n",
            "\"package 'quantreg' was built under R version 4.4.3\"\n",
            "Loading required package: SparseM\n",
            "\n",
            "Warning message:\n",
            "\"package 'SparseM' was built under R version 4.4.3\"\n",
            "Warning message:\n",
            "\"package 'lmtest' was built under R version 4.4.3\"\n",
            "Loading required package: zoo\n",
            "\n",
            "Warning message:\n",
            "\"package 'zoo' was built under R version 4.4.3\"\n",
            "\n",
            "Attaching package: 'zoo'\n",
            "\n",
            "\n",
            "The following objects are masked from 'package:base':\n",
            "\n",
            "    as.Date, as.Date.numeric\n",
            "\n",
            "\n",
            "Warning message:\n",
            "\"package 'sandwich' was built under R version 4.4.3\"\n",
            "Warning message:\n",
            "\"package 'car' was built under R version 4.4.3\"\n",
            "Loading required package: carData\n",
            "\n",
            "Warning message:\n",
            "\"package 'carData' was built under R version 4.4.3\"\n",
            "\n",
            "Attaching package: 'car'\n",
            "\n",
            "\n",
            "The following object is masked from 'package:dplyr':\n",
            "\n",
            "    recode\n",
            "\n",
            "\n",
            "\n",
            "Please cite as: \n",
            "\n",
            "\n",
            " Hlavac, Marek (2022). stargazer: Well-Formatted Regression and Summary Statistics Tables.\n",
            "\n",
            " R package version 5.2.3. https://CRAN.R-project.org/package=stargazer \n",
            "\n",
            "\n",
            "Warning message:\n",
            "\"package 'knitr' was built under R version 4.4.3\"\n"
          ]
        }
      ],
      "source": [
        "\n",
        "req_pkgs <- c(\"ggplot2\",\"dplyr\",\"quantreg\",\"lmtest\",\"sandwich\",\"car\",\"stargazer\",\"knitr\",\"glm2\")\n",
        "for (p in req_pkgs) {\n",
        "  if (!requireNamespace(p, quietly = TRUE)) {\n",
        "    install.packages(p, repos = \"https://cloud.r-project.org\")\n",
        "  }\n",
        "}\n",
        "library(ggplot2)\n",
        "library(dplyr)\n",
        "library(quantreg)\n",
        "library(lmtest)\n",
        "library(sandwich)\n",
        "library(car)\n",
        "library(stargazer)\n",
        "library(knitr)\n",
        "library(glm2)\n",
        "\n",
        "set.seed(123) \n"
      ]
    },
    {
      "cell_type": "markdown",
      "metadata": {},
      "source": [
        "## Problem 1: Simulating Used Car Prices \n",
        "### 1) Data Simulation\n",
        "\n",
        "We simulated according to the data‑generating process described in the assignment:\n",
        "$\n",
        "\\text{price}_i = 1000 - 0.0005\\,\\text{milage}_i^2 - 5\\,\\text{years\\_old}_i + 50\\,\\text{convertible}_i + 100\\,\\text{luxury}_i + \\varepsilon_i,\\quad \\varepsilon_i\\sim\\mathcal{N}(0,15).\n",
        "$\n",
        "\n",
        "We also build a `data.frame` called `cars`.\n",
        "\n",
        "We chose relatively small sample size 200 to obtain \"interesting results\" as was mentioned in the assignment."
      ]
    },
    {
      "cell_type": "code",
      "execution_count": null,
      "metadata": {
        "vscode": {
          "languageId": "r"
        }
      },
      "outputs": [
        {
          "data": {
            "text/html": [
              "<table class=\"dataframe\">\n",
              "<caption>A data.frame: 6 × 5</caption>\n",
              "<thead>\n",
              "\t<tr><th></th><th scope=col>price</th><th scope=col>milage</th><th scope=col>years_old</th><th scope=col>convertible</th><th scope=col>luxury</th></tr>\n",
              "\t<tr><th></th><th scope=col>&lt;dbl&gt;</th><th scope=col>&lt;dbl&gt;</th><th scope=col>&lt;int&gt;</th><th scope=col>&lt;int&gt;</th><th scope=col>&lt;int&gt;</th></tr>\n",
              "</thead>\n",
              "<tbody>\n",
              "\t<tr><th scope=row>1</th><td> 652.9847</td><td> 831.8573</td><td> 8</td><td>1</td><td>0</td></tr>\n",
              "\t<tr><th scope=row>2</th><td> 594.6920</td><td> 930.9468</td><td> 4</td><td>1</td><td>0</td></tr>\n",
              "\t<tr><th scope=row>3</th><td>-122.2930</td><td>1467.6125</td><td>10</td><td>0</td><td>0</td></tr>\n",
              "\t<tr><th scope=row>4</th><td> 443.0286</td><td>1021.1525</td><td>14</td><td>1</td><td>0</td></tr>\n",
              "\t<tr><th scope=row>5</th><td> 417.6969</td><td>1038.7863</td><td> 8</td><td>0</td><td>0</td></tr>\n",
              "\t<tr><th scope=row>6</th><td>-207.3756</td><td>1514.5195</td><td>15</td><td>0</td><td>0</td></tr>\n",
              "</tbody>\n",
              "</table>\n"
            ],
            "text/latex": [
              "A data.frame: 6 × 5\n",
              "\\begin{tabular}{r|lllll}\n",
              "  & price & milage & years\\_old & convertible & luxury\\\\\n",
              "  & <dbl> & <dbl> & <int> & <int> & <int>\\\\\n",
              "\\hline\n",
              "\t1 &  652.9847 &  831.8573 &  8 & 1 & 0\\\\\n",
              "\t2 &  594.6920 &  930.9468 &  4 & 1 & 0\\\\\n",
              "\t3 & -122.2930 & 1467.6125 & 10 & 0 & 0\\\\\n",
              "\t4 &  443.0286 & 1021.1525 & 14 & 1 & 0\\\\\n",
              "\t5 &  417.6969 & 1038.7863 &  8 & 0 & 0\\\\\n",
              "\t6 & -207.3756 & 1514.5195 & 15 & 0 & 0\\\\\n",
              "\\end{tabular}\n"
            ],
            "text/markdown": [
              "\n",
              "A data.frame: 6 × 5\n",
              "\n",
              "| <!--/--> | price &lt;dbl&gt; | milage &lt;dbl&gt; | years_old &lt;int&gt; | convertible &lt;int&gt; | luxury &lt;int&gt; |\n",
              "|---|---|---|---|---|---|\n",
              "| 1 |  652.9847 |  831.8573 |  8 | 1 | 0 |\n",
              "| 2 |  594.6920 |  930.9468 |  4 | 1 | 0 |\n",
              "| 3 | -122.2930 | 1467.6125 | 10 | 0 | 0 |\n",
              "| 4 |  443.0286 | 1021.1525 | 14 | 1 | 0 |\n",
              "| 5 |  417.6969 | 1038.7863 |  8 | 0 | 0 |\n",
              "| 6 | -207.3756 | 1514.5195 | 15 | 0 | 0 |\n",
              "\n"
            ],
            "text/plain": [
              "  price     milage    years_old convertible luxury\n",
              "1  652.9847  831.8573  8        1           0     \n",
              "2  594.6920  930.9468  4        1           0     \n",
              "3 -122.2930 1467.6125 10        0           0     \n",
              "4  443.0286 1021.1525 14        1           0     \n",
              "5  417.6969 1038.7863  8        0           0     \n",
              "6 -207.3756 1514.5195 15        0           0     "
            ]
          },
          "metadata": {},
          "output_type": "display_data"
        }
      ],
      "source": [
        "\n",
        "N <- 200\n",
        "\n",
        "# Explanatory variables (X)\n",
        "milage      <- rnorm(N, mean = 1000, sd = 300)\n",
        "years_old   <- sample(2:15, N, replace = TRUE)\n",
        "convertible <- rbinom(N, 1, 0.3)\n",
        "luxury      <- rbinom(N, 1, 0.2)\n",
        "\n",
        "# Error term\n",
        "epsilon <- rnorm(N, mean = 0, sd = 15)\n",
        "\n",
        "# Outcome\n",
        "price <- 1000 - 0.0005 * milage^2 - 5 * years_old + 50 * convertible + 100 * luxury + epsilon\n",
        "\n",
        "cars <- data.frame(price, milage, years_old, convertible, luxury)\n",
        "\n",
        "# Peek\n",
        "head(cars)\n"
      ]
    },
    {
      "cell_type": "markdown",
      "metadata": {},
      "source": [
        "### 1a) Descriptive Statistics & Figures\n",
        "\n",
        "We report summary statistics, a scatterplot matrix, and selected plots. The values are expected.\n"
      ]
    },
    {
      "cell_type": "code",
      "execution_count": null,
      "metadata": {
        "vscode": {
          "languageId": "r"
        }
      },
      "outputs": [
        {
          "data": {
            "text/plain": [
              "     price            milage         years_old      convertible  \n",
              " Min.   :-987.8   Min.   : 307.2   Min.   : 2.00   Min.   :0.00  \n",
              " 1st Qu.: 295.6   1st Qu.: 812.3   1st Qu.: 5.00   1st Qu.:0.00  \n",
              " Median : 476.1   Median : 982.4   Median : 9.00   Median :0.00  \n",
              " Mean   : 449.8   Mean   : 997.4   Mean   : 8.64   Mean   :0.29  \n",
              " 3rd Qu.: 663.6   3rd Qu.:1170.5   3rd Qu.:12.00   3rd Qu.:1.00  \n",
              " Max.   :1022.9   Max.   :1972.3   Max.   :15.00   Max.   :1.00  \n",
              "     luxury    \n",
              " Min.   :0.00  \n",
              " 1st Qu.:0.00  \n",
              " Median :0.00  \n",
              " Mean   :0.17  \n",
              " 3rd Qu.:0.00  \n",
              " Max.   :1.00  "
            ]
          },
          "metadata": {},
          "output_type": "display_data"
        },
        {
          "data": {
            "image/png": "[encoded data removed]",
            "text/plain": [
              "plot without title"
            ]
          },
          "metadata": {
            "image/png": {
              "height": 420,
              "width": 420
            }
          },
          "output_type": "display_data"
        },
        {
          "data": {
            "image/png": "[encoded data removed]",
            "text/plain": [
              "plot without title"
            ]
          },
          "metadata": {
            "image/png": {
              "height": 420,
              "width": 420
            }
          },
          "output_type": "display_data"
        }
      ],
      "source": [
        "# Summary statistics\n",
        "summary(cars)\n",
        "\n",
        "# A scatterplot matrix of all variables\n",
        "pairs(cars, main = \"Scatterplot Matrix of Simulated Variables\")\n",
        "\n",
        "# Price vs Milage colored by luxury brand\n",
        "ggplot(cars, aes(x = milage, y = price, color = factor(luxury))) +\n",
        "  geom_point(alpha = 0.7) +\n",
        "  labs(title = \"Price vs. Milage (colored by Luxury Brand)\",\n",
        "       color = \"Luxury\") +\n",
        "  theme_minimal()\n",
        "\n",
        "\n",
        "\n"
      ]
    },
    {
      "cell_type": "markdown",
      "id": "5b30aa4c",
      "metadata": {},
      "source": [
        "### 2) Misspecified Linear Model\n",
        "\n",
        "We (incorrectly) omit the $\\text{milage}^2$ term and include only a linear effect of milage:\n",
        "$\n",
        "\\text{price}_i = \\alpha_0 + \\alpha_1\\,\\text{milage}_i + \\alpha_2\\,\\text{years\\_old}_i + \\alpha_3\\,\\text{convertible}_i + \\alpha_4\\,\\text{luxury}_i + u_i.\n",
        "$\n",
        "\n",
        "This induces functional form misspecification $\\Rightarrow$ biased estimates. Specifically estimates of milage (-1.05) appear very different compared to the true parameter (-0.0005). This is caused by the efect of the linear parameter which is trying to \"soak up\" the true effect that is non-linear. Intercept is also biased (roughly 500 higher), it is also caused by the functional form misspecification. \n",
        "\n",
        "Since the other variables are generater without correlation to milage they are exogenous. This can be proven mathematically, since $\\text{Bias}(\\beta_j) = \\gamma \\cdot \\pi_j$, where $\\gamma$ is the effect of ommited variable (in this case $\\text{milage}^2$), $j$ is the index of the other variables and $\\pi_j$ is the slope from regressing the omitted variable on regressor $j$. We know that $\\pi_j = 0$ and thus bias is zero $\\Rightarrow$ those estimates are unbiased and consistent. We can see this visually since those estimates are very close to true value. The difference is caused by small sample size. \n",
        "\n",
        "To test this we can first check correlation between regressors and the omited variable. If the correlation is zero as sample size grows this indicates unbiased results. Moreover we did Ramsey Reset test to check functional form misspecification and the small p-value below indicates we can reject $H_0$: Correctly Specified with high confidence (more than 99\\%)"
      ]
    },
    {
      "cell_type": "code",
      "execution_count": 17,
      "metadata": {
        "vscode": {
          "languageId": "r"
        }
      },
      "outputs": [
        {
          "data": {
            "text/plain": [
              "\n",
              "Call:\n",
              "lm(formula = price ~ milage + years_old + convertible + luxury, \n",
              "    data = cars)\n",
              "\n",
              "Residuals:\n",
              "    Min      1Q  Median      3Q     Max \n",
              "-400.48  -14.46   15.99   35.48   73.31 \n",
              "\n",
              "Coefficients:\n",
              "              Estimate Std. Error t value Pr(>|t|)    \n",
              "(Intercept) 1509.35641   18.22953  82.797  < 2e-16 ***\n",
              "milage        -1.04522    0.01507 -69.342  < 2e-16 ***\n",
              "years_old     -5.86401    1.04802  -5.595 7.38e-08 ***\n",
              "convertible   61.21950    9.34337   6.552 4.93e-10 ***\n",
              "luxury        93.42512   11.26295   8.295 1.76e-14 ***\n",
              "---\n",
              "Signif. codes:  0 '***' 0.001 '**' 0.01 '*' 0.05 '.' 0.1 ' ' 1\n",
              "\n",
              "Residual standard error: 59.43 on 195 degrees of freedom\n",
              "Multiple R-squared:  0.9646,\tAdjusted R-squared:  0.9638 \n",
              "F-statistic:  1327 on 4 and 195 DF,  p-value: < 2.2e-16\n"
            ]
          },
          "metadata": {},
          "output_type": "display_data"
        },
        {
          "data": {
            "text/html": [
              "0.981937942963174"
            ],
            "text/latex": [
              "0.981937942963174"
            ],
            "text/markdown": [
              "0.981937942963174"
            ],
            "text/plain": [
              "[1] 0.9819379"
            ]
          },
          "metadata": {},
          "output_type": "display_data"
        },
        {
          "data": {
            "text/html": [
              "0.0700434358474055"
            ],
            "text/latex": [
              "0.0700434358474055"
            ],
            "text/markdown": [
              "0.0700434358474055"
            ],
            "text/plain": [
              "[1] 0.07004344"
            ]
          },
          "metadata": {},
          "output_type": "display_data"
        },
        {
          "data": {
            "text/html": [
              "-0.141308075192403"
            ],
            "text/latex": [
              "-0.141308075192403"
            ],
            "text/markdown": [
              "-0.141308075192403"
            ],
            "text/plain": [
              "[1] -0.1413081"
            ]
          },
          "metadata": {},
          "output_type": "display_data"
        },
        {
          "data": {
            "text/html": [
              "-0.0495340173617762"
            ],
            "text/latex": [
              "-0.0495340173617762"
            ],
            "text/markdown": [
              "-0.0495340173617762"
            ],
            "text/plain": [
              "[1] -0.04953402"
            ]
          },
          "metadata": {},
          "output_type": "display_data"
        },
        {
          "data": {
            "text/plain": [
              "\n",
              "\tRESET test\n",
              "\n",
              "data:  model_wrong\n",
              "RESET = 716.76, df1 = 2, df2 = 193, p-value < 2.2e-16\n"
            ]
          },
          "metadata": {},
          "output_type": "display_data"
        }
      ],
      "source": [
        "model_wrong <- lm(price ~ milage + years_old + convertible + luxury, data = cars)\n",
        "summary(model_wrong)\n",
        "\n",
        "cor(cars$milage, cars$milage^2)      \n",
        "cor(cars$years_old, cars$milage^2)   \n",
        "cor(cars$convertible, cars$milage^2) \n",
        "cor(cars$luxury, cars$milage^2)\n",
        "resettest(model_wrong, power = 2:3)"
      ]
    },
    {
      "cell_type": "markdown",
      "metadata": {},
      "source": [
        "### 3) Correct Functional Specification\n",
        "\n",
        "Now we estimated the true functional form with $\\text{milage}^2$:\n",
        "$\n",
        "\\text{price}_i = \\alpha_0 + \\beta_1\\,\\text{milage}_i^2 + \\beta_2\\,\\text{years\\_old}_i + \\beta_3\\,\\text{convertible}_i + \\beta_4\\,\\text{luxury}_i + \\varepsilon_i.\n",
        "$\n",
        "\n",
        "We also test whether the estimated coefficients equal the true values via Wald tests: $1000, -0.0005, -5, 50, 100$. The Wald test has p-value of 31.5\\%. This implies that we cannot reject null hypothesis with any meaningful confidence (for example $> 90\\%$), and thus we cannot say that those estimates **are not** equal to the true values.\n",
        "\n",
        "**We did use AI** when conducting the wald test in order to obtain optimal code"
      ]
    },
    {
      "cell_type": "code",
      "execution_count": 16,
      "metadata": {
        "vscode": {
          "languageId": "r"
        }
      },
      "outputs": [
        {
          "data": {
            "text/plain": [
              "\n",
              "Call:\n",
              "lm(formula = price ~ I(milage^2) + years_old + convertible + \n",
              "    luxury, data = cars)\n",
              "\n",
              "Residuals:\n",
              "    Min      1Q  Median      3Q     Max \n",
              "-41.625  -9.810   0.211   9.937  39.366 \n",
              "\n",
              "Coefficients:\n",
              "              Estimate Std. Error t value Pr(>|t|)    \n",
              "(Intercept)  1.002e+03  3.180e+00  315.03   <2e-16 ***\n",
              "I(milage^2) -5.002e-04  1.752e-06 -285.54   <2e-16 ***\n",
              "years_old   -5.373e+00  2.594e-01  -20.71   <2e-16 ***\n",
              "convertible  4.909e+01  2.317e+00   21.19   <2e-16 ***\n",
              "luxury       1.045e+02  2.784e+00   37.53   <2e-16 ***\n",
              "---\n",
              "Signif. codes:  0 '***' 0.001 '**' 0.01 '*' 0.05 '.' 0.1 ' ' 1\n",
              "\n",
              "Residual standard error: 14.7 on 195 degrees of freedom\n",
              "Multiple R-squared:  0.9978,\tAdjusted R-squared:  0.9978 \n",
              "F-statistic: 2.243e+04 on 4 and 195 DF,  p-value: < 2.2e-16\n"
            ]
          },
          "metadata": {},
          "output_type": "display_data"
        },
        {
          "data": {
            "text/html": [
              "<table class=\"dataframe\">\n",
              "<caption>A anova: 2 × 6</caption>\n",
              "<thead>\n",
              "\t<tr><th></th><th scope=col>Res.Df</th><th scope=col>RSS</th><th scope=col>Df</th><th scope=col>Sum of Sq</th><th scope=col>F</th><th scope=col>Pr(&gt;F)</th></tr>\n",
              "\t<tr><th></th><th scope=col>&lt;dbl&gt;</th><th scope=col>&lt;dbl&gt;</th><th scope=col>&lt;dbl&gt;</th><th scope=col>&lt;dbl&gt;</th><th scope=col>&lt;dbl&gt;</th><th scope=col>&lt;dbl&gt;</th></tr>\n",
              "</thead>\n",
              "<tbody>\n",
              "\t<tr><th scope=row>1</th><td>200</td><td>43443.49</td><td>NA</td><td>      NA</td><td>      NA</td><td>       NA</td></tr>\n",
              "\t<tr><th scope=row>2</th><td>195</td><td>42157.81</td><td> 5</td><td>1285.688</td><td>1.189384</td><td>0.3157863</td></tr>\n",
              "</tbody>\n",
              "</table>\n"
            ],
            "text/latex": [
              "A anova: 2 × 6\n",
              "\\begin{tabular}{r|llllll}\n",
              "  & Res.Df & RSS & Df & Sum of Sq & F & Pr(>F)\\\\\n",
              "  & <dbl> & <dbl> & <dbl> & <dbl> & <dbl> & <dbl>\\\\\n",
              "\\hline\n",
              "\t1 & 200 & 43443.49 & NA &       NA &       NA &        NA\\\\\n",
              "\t2 & 195 & 42157.81 &  5 & 1285.688 & 1.189384 & 0.3157863\\\\\n",
              "\\end{tabular}\n"
            ],
            "text/markdown": [
              "\n",
              "A anova: 2 × 6\n",
              "\n",
              "| <!--/--> | Res.Df &lt;dbl&gt; | RSS &lt;dbl&gt; | Df &lt;dbl&gt; | Sum of Sq &lt;dbl&gt; | F &lt;dbl&gt; | Pr(&gt;F) &lt;dbl&gt; |\n",
              "|---|---|---|---|---|---|---|\n",
              "| 1 | 200 | 43443.49 | NA |       NA |       NA |        NA |\n",
              "| 2 | 195 | 42157.81 |  5 | 1285.688 | 1.189384 | 0.3157863 |\n",
              "\n"
            ],
            "text/plain": [
              "  Res.Df RSS      Df Sum of Sq F        Pr(>F)   \n",
              "1 200    43443.49 NA       NA        NA        NA\n",
              "2 195    42157.81  5 1285.688  1.189384 0.3157863"
            ]
          },
          "metadata": {},
          "output_type": "display_data"
        }
      ],
      "source": [
        "model_true <- lm(price ~ I(milage^2) + years_old + convertible + luxury, data = cars)\n",
        "summary(model_true)\n",
        "\n",
        "# Wald tests for equality to true parameters\n",
        "lh_res <- car::linearHypothesis(\n",
        "  model_true,\n",
        "  c(\"(Intercept) = 1000\",\n",
        "    \"I(milage^2) = -0.0005\",\n",
        "    \"years_old = -5\",\n",
        "    \"convertible = 50\",\n",
        "    \"luxury = 100\")\n",
        ")\n",
        "lh_res\n",
        "\n"
      ]
    },
    {
      "cell_type": "markdown",
      "metadata": {},
      "source": [
        "### 4) Heteroskedasticity Scenario and Corrections\n",
        "\n",
        "We now simulated a new outcome where the error term is proportional to milage:\n",
        "$\n",
        "\\text{price}_i = 1000 - 0.0005\\,\\text{milage}_i^2 - 5\\,\\text{years\\_old}_i + 50\\,\\text{convertible}_i + 100\\,\\text{luxury}_i + \\text{milage}_i\\ \\cdot \\varepsilon_i.\n",
        "$\n",
        "\n",
        "\n",
        "\n",
        "Since the multiplicative heteroskedasticity is proportional to mileage. OLS coefficients remain unbiased and consistent (exogeneity holds), but usual OLS standard errors are invalid and efficiency is lost. The B-P test has very low p-value thus we reject null hypothesis of homoskedasticity. With use of robust (HC1) SEs we fixed the inference with misspecified variance. Next we divided the whole model with $\\frac{1}{\\text{milage}}$, which is the true form of heteroskedasticity further improving SEs, but in proces we changed the interpetation of the intercept which is now $\\frac{\\text{intercept}}{\\text{milage}}$, similarly ve divided all other variables including $y$ and we now only have linear effect of milage, thus our interpretation changes."
      ]
    },
    {
      "cell_type": "code",
      "execution_count": null,
      "metadata": {
        "vscode": {
          "languageId": "r"
        }
      },
      "outputs": [
        {
          "data": {
            "text/plain": [
              "\n",
              "Call:\n",
              "lm(formula = price2 ~ I(milage^2) + years_old + convertible + \n",
              "    luxury, data = cars2)\n",
              "\n",
              "Residuals:\n",
              "   Min     1Q Median     3Q    Max \n",
              "-58767  -7744    623   9595  59555 \n",
              "\n",
              "Coefficients:\n",
              "              Estimate Std. Error t value Pr(>|t|)  \n",
              "(Intercept)  5.359e+03  3.348e+03   1.601   0.1110  \n",
              "I(milage^2)  2.569e-04  1.844e-03   0.139   0.8893  \n",
              "years_old   -5.964e+02  2.731e+02  -2.184   0.0302 *\n",
              "convertible  1.836e+03  2.439e+03   0.753   0.4525  \n",
              "luxury      -1.244e+03  2.931e+03  -0.425   0.6716  \n",
              "---\n",
              "Signif. codes:  0 '***' 0.001 '**' 0.01 '*' 0.05 '.' 0.1 ' ' 1\n",
              "\n",
              "Residual standard error: 15480 on 195 degrees of freedom\n",
              "Multiple R-squared:  0.02921,\tAdjusted R-squared:  0.009297 \n",
              "F-statistic: 1.467 on 4 and 195 DF,  p-value: 0.2138\n"
            ]
          },
          "metadata": {},
          "output_type": "display_data"
        },
        {
          "data": {
            "text/plain": [
              "\n",
              "\tstudentized Breusch-Pagan test\n",
              "\n",
              "data:  model_het\n",
              "BP = 37.088, df = 4, p-value = 1.728e-07\n"
            ]
          },
          "metadata": {},
          "output_type": "display_data"
        },
        {
          "data": {
            "text/plain": [
              "\n",
              "t test of coefficients:\n",
              "\n",
              "               Estimate  Std. Error t value Pr(>|t|)  \n",
              "(Intercept)  5.3593e+03  3.8160e+03  1.4044  0.16178  \n",
              "I(milage^2)  2.5692e-04  2.9130e-03  0.0882  0.92981  \n",
              "years_old   -5.9641e+02  2.7156e+02 -2.1963  0.02925 *\n",
              "convertible  1.8359e+03  2.1942e+03  0.8367  0.40376  \n",
              "luxury      -1.2442e+03  3.4768e+03 -0.3579  0.72083  \n",
              "---\n",
              "Signif. codes:  0 '***' 0.001 '**' 0.01 '*' 0.05 '.' 0.1 ' ' 1\n"
            ]
          },
          "metadata": {},
          "output_type": "display_data"
        },
        {
          "data": {
            "text/plain": [
              "\n",
              "Call:\n",
              "lm(formula = price2_adj ~ milage2_adj + years_adj + convertible + \n",
              "    luxury, data = cars2)\n",
              "\n",
              "Residuals:\n",
              "    Min      1Q  Median      3Q     Max \n",
              "-43.457  -8.863  -0.087   9.836  38.537 \n",
              "\n",
              "Coefficients:\n",
              "              Estimate Std. Error t value Pr(>|t|)  \n",
              "(Intercept)  1.178e+01  5.745e+00   2.051   0.0416 *\n",
              "milage2_adj -6.954e-03  4.199e-03  -1.656   0.0993 .\n",
              "years_adj   -4.099e+02  2.202e+02  -1.861   0.0642 .\n",
              "convertible  9.042e-01  2.280e+00   0.397   0.6921  \n",
              "luxury      -1.120e+00  2.738e+00  -0.409   0.6828  \n",
              "---\n",
              "Signif. codes:  0 '***' 0.001 '**' 0.01 '*' 0.05 '.' 0.1 ' ' 1\n",
              "\n",
              "Residual standard error: 14.47 on 195 degrees of freedom\n",
              "Multiple R-squared:  0.02431,\tAdjusted R-squared:  0.004293 \n",
              "F-statistic: 1.215 on 4 and 195 DF,  p-value: 0.3059\n"
            ]
          },
          "metadata": {},
          "output_type": "display_data"
        }
      ],
      "source": [
        "# Multiplicative heteroskedasticity\n",
        "epsilon2 <- rnorm(N, 0, 15)\n",
        "price2 <- 1000 - 0.0005 * milage^2 - 5 * years_old + 50 * convertible + 100 * luxury + milage * epsilon2\n",
        "\n",
        "cars2 <- data.frame(price2, milage, years_old, convertible, luxury)\n",
        "\n",
        "# \"True\" structural regressors \n",
        "model_het <- lm(price2 ~ I(milage^2) + years_old + convertible + luxury, data = cars2)\n",
        "summary(model_het)\n",
        "\n",
        "# Breusch-Pagan test for heteroskedasticity\n",
        "bp <- bptest(model_het)\n",
        "bp\n",
        "\n",
        "# Robust standard errors\n",
        "robust_vcov <- vcovHC(model_het, type = \"HC1\")\n",
        "robust_se <- sqrt(diag(robust_vcov))\n",
        "\n",
        "# Coefficients with robust SEs\n",
        "lmtest::coeftest(model_het, vcov = robust_vcov)\n",
        "\n",
        "# Known-form correction: dividing both sides by milage\n",
        "cars2 <- cars2 %>% mutate(\n",
        "  price2_adj   = price2 / milage,\n",
        "  milage2_adj  = (milage^2) / milage,   \n",
        "  years_adj    = years_old / milage\n",
        ")\n",
        "\n",
        "model_corrected <- lm(price2_adj ~ milage2_adj + years_adj + convertible + luxury, data = cars2)\n",
        "summary(model_corrected)\n",
        "\n"
      ]
    },
    {
      "cell_type": "code",
      "execution_count": null,
      "id": "7f22c69f",
      "metadata": {
        "vscode": {
          "languageId": "r"
        }
      },
      "outputs": [],
      "source": []
    },
    {
      "cell_type": "markdown",
      "metadata": {},
      "source": [
        "### 5) Quantile Regression (τ = 0.05 to 0.95 by 0.05)\n",
        "\n",
        "We estimated quantile regressions for the correctly specified model and plot how key coefficients vary across quantiles. This reveals distributional heterogeneity beyond the conditional mean. We can see that the estimates of different quantiles vary, for example for $\\text{milage}^2$ variable, but those difference are rather small and insignificant. Nevertheless quantile regression did uncover more precise estimates of different part of the population, but again in this case not so significant differences."
      ]
    },
    {
      "cell_type": "code",
      "execution_count": null,
      "metadata": {
        "vscode": {
          "languageId": "r"
        }
      },
      "outputs": [
        {
          "data": {
            "text/html": [
              "<table class=\"dataframe\">\n",
              "<caption>A data.frame: 6 × 6</caption>\n",
              "<thead>\n",
              "\t<tr><th></th><th scope=col>(Intercept)</th><th scope=col>I(milage^2)</th><th scope=col>years_old</th><th scope=col>convertible</th><th scope=col>luxury</th><th scope=col>tau</th></tr>\n",
              "\t<tr><th></th><th scope=col>&lt;dbl&gt;</th><th scope=col>&lt;dbl&gt;</th><th scope=col>&lt;dbl&gt;</th><th scope=col>&lt;dbl&gt;</th><th scope=col>&lt;dbl&gt;</th><th scope=col>&lt;dbl&gt;</th></tr>\n",
              "</thead>\n",
              "<tbody>\n",
              "\t<tr><th scope=row>1</th><td>977.5517</td><td>-0.0005007882</td><td>-4.893971</td><td>45.13564</td><td> 90.68729</td><td>0.05</td></tr>\n",
              "\t<tr><th scope=row>2</th><td>979.2472</td><td>-0.0004983454</td><td>-5.138985</td><td>48.22828</td><td>108.28120</td><td>0.10</td></tr>\n",
              "\t<tr><th scope=row>3</th><td>985.9332</td><td>-0.0004989380</td><td>-5.478099</td><td>50.12994</td><td>107.91111</td><td>0.15</td></tr>\n",
              "\t<tr><th scope=row>4</th><td>986.8641</td><td>-0.0004993317</td><td>-5.378036</td><td>52.00613</td><td>106.61015</td><td>0.20</td></tr>\n",
              "\t<tr><th scope=row>5</th><td>992.3923</td><td>-0.0005007132</td><td>-5.407758</td><td>49.08453</td><td>107.27943</td><td>0.25</td></tr>\n",
              "\t<tr><th scope=row>6</th><td>995.8403</td><td>-0.0005014957</td><td>-5.471076</td><td>49.14202</td><td>105.99357</td><td>0.30</td></tr>\n",
              "</tbody>\n",
              "</table>\n"
            ],
            "text/latex": [
              "A data.frame: 6 × 6\n",
              "\\begin{tabular}{r|llllll}\n",
              "  & (Intercept) & I(milage\\textasciicircum{}2) & years\\_old & convertible & luxury & tau\\\\\n",
              "  & <dbl> & <dbl> & <dbl> & <dbl> & <dbl> & <dbl>\\\\\n",
              "\\hline\n",
              "\t1 & 977.5517 & -0.0005007882 & -4.893971 & 45.13564 &  90.68729 & 0.05\\\\\n",
              "\t2 & 979.2472 & -0.0004983454 & -5.138985 & 48.22828 & 108.28120 & 0.10\\\\\n",
              "\t3 & 985.9332 & -0.0004989380 & -5.478099 & 50.12994 & 107.91111 & 0.15\\\\\n",
              "\t4 & 986.8641 & -0.0004993317 & -5.378036 & 52.00613 & 106.61015 & 0.20\\\\\n",
              "\t5 & 992.3923 & -0.0005007132 & -5.407758 & 49.08453 & 107.27943 & 0.25\\\\\n",
              "\t6 & 995.8403 & -0.0005014957 & -5.471076 & 49.14202 & 105.99357 & 0.30\\\\\n",
              "\\end{tabular}\n"
            ],
            "text/markdown": [
              "\n",
              "A data.frame: 6 × 6\n",
              "\n",
              "| <!--/--> | (Intercept) &lt;dbl&gt; | I(milage^2) &lt;dbl&gt; | years_old &lt;dbl&gt; | convertible &lt;dbl&gt; | luxury &lt;dbl&gt; | tau &lt;dbl&gt; |\n",
              "|---|---|---|---|---|---|---|\n",
              "| 1 | 977.5517 | -0.0005007882 | -4.893971 | 45.13564 |  90.68729 | 0.05 |\n",
              "| 2 | 979.2472 | -0.0004983454 | -5.138985 | 48.22828 | 108.28120 | 0.10 |\n",
              "| 3 | 985.9332 | -0.0004989380 | -5.478099 | 50.12994 | 107.91111 | 0.15 |\n",
              "| 4 | 986.8641 | -0.0004993317 | -5.378036 | 52.00613 | 106.61015 | 0.20 |\n",
              "| 5 | 992.3923 | -0.0005007132 | -5.407758 | 49.08453 | 107.27943 | 0.25 |\n",
              "| 6 | 995.8403 | -0.0005014957 | -5.471076 | 49.14202 | 105.99357 | 0.30 |\n",
              "\n"
            ],
            "text/plain": [
              "  (Intercept) I(milage^2)   years_old convertible luxury    tau \n",
              "1 977.5517    -0.0005007882 -4.893971 45.13564     90.68729 0.05\n",
              "2 979.2472    -0.0004983454 -5.138985 48.22828    108.28120 0.10\n",
              "3 985.9332    -0.0004989380 -5.478099 50.12994    107.91111 0.15\n",
              "4 986.8641    -0.0004993317 -5.378036 52.00613    106.61015 0.20\n",
              "5 992.3923    -0.0005007132 -5.407758 49.08453    107.27943 0.25\n",
              "6 995.8403    -0.0005014957 -5.471076 49.14202    105.99357 0.30"
            ]
          },
          "metadata": {},
          "output_type": "display_data"
        },
        {
          "data": {
            "image/png": "[encoded data removed]",
            "text/plain": [
              "plot without title"
            ]
          },
          "metadata": {
            "image/png": {
              "height": 420,
              "width": 420
            }
          },
          "output_type": "display_data"
        }
      ],
      "source": [
        "taus <- seq(0.05, 0.95, by = 0.05)\n",
        "qr_models <- lapply(taus, function(tau) {\n",
        "  quantreg::rq(price ~ I(milage^2) + years_old + convertible + luxury, data = cars, tau = tau)\n",
        "})\n",
        "\n",
        "# Coefficients\n",
        "coef_mat <- sapply(qr_models, coef)\n",
        "coef_df <- as.data.frame(t(coef_mat))\n",
        "coef_df$tau <- taus\n",
        "\n",
        "head(coef_df)\n",
        "\n",
        "# Plots\n",
        "  ggplot(coef_df, aes(x = tau, y = `I(milage^2)`)) +\n",
        "    geom_line() +\n",
        "    geom_hline(yintercept = coef(model_true)[\"I(milage^2)\"], linetype = \"dashed\") +\n",
        "    labs(title = \"Quantile Regression: Coefficient on milage^2 across τ\",\n",
        "        x = \"Quantile (τ)\", y = \"Coefficient\") +\n",
        "    theme_minimal()\n",
        "\n",
        "\n"
      ]
    },
    {
      "cell_type": "markdown",
      "id": "1dc7412d",
      "metadata": {},
      "source": [
        "# Problem 2 — Vietnam Living Standards Survey (1997)\n",
        "### Q1 — Data selection, summary, proportions, and basic graphs"
      ]
    },
    {
      "cell_type": "code",
      "execution_count": 1,
      "id": "54fdcec3",
      "metadata": {
        "vscode": {
          "languageId": "r"
        }
      },
      "outputs": [
        {
          "name": "stdout",
          "output_type": "stream",
          "text": [
            "'data.frame':\t5999 obs. of  6 variables:\n",
            " $ lhhexp1 : num  10.1 10.3 10.9 10.3 10.5 ...\n",
            " $ lhhex12m: num  11.23 8.51 8.71 9.29 7.56 ...\n",
            " $ farm    : Factor w/ 2 levels \"non farm\",\"farm\": 1 1 1 1 1 1 1 1 1 1 ...\n",
            " $ urban98 : Factor w/ 2 levels \"Rural\",\"Urban\": 2 2 2 2 2 2 2 2 2 2 ...\n",
            " $ age     : int  68 57 42 72 73 66 73 46 50 45 ...\n",
            " $ sex     : int  2 2 1 2 2 2 2 1 1 1 ...\n",
            " - attr(*, \"datalabel\")= chr \"\"\n",
            " - attr(*, \"time.stamp\")= chr \"19 Sep 2002 21:45\"\n",
            " - attr(*, \"formats\")= chr [1:9] \"%8.0g\" \"%8.0g\" \"%9.0g\" \"%9.0g\" ...\n",
            " - attr(*, \"types\")= int [1:9] 98 105 102 102 98 108 102 102 102\n",
            " - attr(*, \"val.labels\")= chr [1:9] \"\" \"\" \"\" \"loaiho\" ...\n",
            " - attr(*, \"var.labels\")= chr [1:9] \"Gender of HH.head (1:M;2:F)\" \"Age of household head\" \"schooling year of HH.head\" \"Type of HH (1:farm; 0:nonfarm)\" ...\n",
            " - attr(*, \"expansion.fields\")=List of 3\n",
            "  ..$ : chr [1:3] \"_dta\" \"iis\" \"househol\"\n",
            "  ..$ : chr [1:3] \"_dta\" \"strata\" \"commune\"\n",
            "  ..$ : chr [1:3] \"_dta\" \"pweight\" \"wt\"\n",
            " - attr(*, \"version\")= int 7\n",
            " - attr(*, \"label.table\")=List of 2\n",
            "  ..$ loaiho: Named int [1:2] 0 1\n",
            "  .. ..- attr(*, \"names\")= chr [1:2] \"non farm\" \"farm\"\n",
            "  ..$ urban : Named int [1:2] 0 1\n",
            "  .. ..- attr(*, \"names\")= chr [1:2] \"Rural\" \"Urban\"\n"
          ]
        },
        {
          "data": {
            "text/plain": [
              "    lhhexp1          lhhex12m            farm       urban98          age       \n",
              " Min.   : 6.543   Min.   : 0.000   non farm:2561   Rural:4269   Min.   :16.00  \n",
              " 1st Qu.: 8.920   1st Qu.: 5.273   farm    :3438   Urban:1730   1st Qu.:37.00  \n",
              " Median : 9.311   Median : 6.372                                Median :46.00  \n",
              " Mean   : 9.342   Mean   : 6.311                                Mean   :48.01  \n",
              " 3rd Qu.: 9.759   3rd Qu.: 7.392                                3rd Qu.:58.00  \n",
              " Max.   :12.202   Max.   :12.363                                Max.   :95.00  \n",
              "                  NA's   :993                                                  \n",
              "      sex       \n",
              " Min.   :1.000  \n",
              " 1st Qu.:1.000  \n",
              " Median :1.000  \n",
              " Mean   :1.271  \n",
              " 3rd Qu.:2.000  \n",
              " Max.   :2.000  \n",
              "                "
            ]
          },
          "metadata": {},
          "output_type": "display_data"
        },
        {
          "data": {
            "text/plain": [
              "\n",
              "        1         2 \n",
              "0.7292882 0.2707118 "
            ]
          },
          "metadata": {},
          "output_type": "display_data"
        },
        {
          "data": {
            "text/plain": [
              "\n",
              " non farm      farm \n",
              "0.4269045 0.5730955 "
            ]
          },
          "metadata": {},
          "output_type": "display_data"
        },
        {
          "data": {
            "text/plain": [
              "\n",
              "    Rural     Urban \n",
              "0.7116186 0.2883814 "
            ]
          },
          "metadata": {},
          "output_type": "display_data"
        },
        {
          "data": {
            "text/html": [
              "<table class=\"dataframe\">\n",
              "<caption>A matrix: 3 × 3 of type dbl</caption>\n",
              "<thead>\n",
              "\t<tr><th></th><th scope=col>lhhexp1</th><th scope=col>lhhex12m</th><th scope=col>age</th></tr>\n",
              "</thead>\n",
              "<tbody>\n",
              "\t<tr><th scope=row>lhhexp1</th><td> 1.00000000</td><td>0.2422273</td><td>-0.03740293</td></tr>\n",
              "\t<tr><th scope=row>lhhex12m</th><td> 0.24222730</td><td>1.0000000</td><td> 0.11099332</td></tr>\n",
              "\t<tr><th scope=row>age</th><td>-0.03740293</td><td>0.1109933</td><td> 1.00000000</td></tr>\n",
              "</tbody>\n",
              "</table>\n"
            ],
            "text/latex": [
              "A matrix: 3 × 3 of type dbl\n",
              "\\begin{tabular}{r|lll}\n",
              "  & lhhexp1 & lhhex12m & age\\\\\n",
              "\\hline\n",
              "\tlhhexp1 &  1.00000000 & 0.2422273 & -0.03740293\\\\\n",
              "\tlhhex12m &  0.24222730 & 1.0000000 &  0.11099332\\\\\n",
              "\tage & -0.03740293 & 0.1109933 &  1.00000000\\\\\n",
              "\\end{tabular}\n"
            ],
            "text/markdown": [
              "\n",
              "A matrix: 3 × 3 of type dbl\n",
              "\n",
              "| <!--/--> | lhhexp1 | lhhex12m | age |\n",
              "|---|---|---|---|\n",
              "| lhhexp1 |  1.00000000 | 0.2422273 | -0.03740293 |\n",
              "| lhhex12m |  0.24222730 | 1.0000000 |  0.11099332 |\n",
              "| age | -0.03740293 | 0.1109933 |  1.00000000 |\n",
              "\n"
            ],
            "text/plain": [
              "         lhhexp1     lhhex12m  age        \n",
              "lhhexp1   1.00000000 0.2422273 -0.03740293\n",
              "lhhex12m  0.24222730 1.0000000  0.11099332\n",
              "age      -0.03740293 0.1109933  1.00000000"
            ]
          },
          "metadata": {},
          "output_type": "display_data"
        },
        {
          "data": {
            "image/png": "[encoded data removed]",
            "text/plain": [
              "Plot with title \"Boxplot: age\""
            ]
          },
          "metadata": {
            "image/png": {
              "height": 420,
              "width": 420
            }
          },
          "output_type": "display_data"
        }
      ],
      "source": [
        "load(\"./problem_2_dataset.Rdata\")\n",
        "# variables \n",
        "q_data <- q_data |> dplyr::select(lhhexp1, lhhex12m, farm, urban98, age, sex)\n",
        "\n",
        "# Structure and summary\n",
        "str(q_data)\n",
        "summary(q_data)\n",
        "\n",
        "# Proportions for categorical variables\n",
        "prop.table(table(q_data$sex))\n",
        "prop.table(table(q_data$farm))\n",
        "prop.table(table(q_data$urban98))\n",
        "\n",
        "# Continuous variables: histograms with kernel density overlays\n",
        "par(mfrow = c(2,3), mar = c(4,4,2,1))\n",
        "\n",
        "hist(q_data$lhhexp1, probability = TRUE, main = \"Log total expenditure\",\n",
        "     xlab = \"lhhexp1\", col = \"lightgray\")\n",
        "lines(density(q_data$lhhexp1, na.rm = TRUE), col = \"red\", lwd = 2)\n",
        "\n",
        "hist(q_data$lhhex12m, probability=TRUE, main=\"Log health expenditure\",\n",
        "     xlab=\"lhhex12m\", col=\"lightgray\")\n",
        "lines(density(q_data$lhhex12m, na.rm=TRUE), col=\"red\", lwd=2)\n",
        "\n",
        "hist(q_data$age, probability=TRUE, main=\"Age\", xlab=\"age\", col=\"lightgray\")\n",
        "lines(density(q_data$age, na.rm=TRUE), col=\"red\", lwd=2)\n",
        "\n",
        "boxplot(q_data$lhhexp1, main = \"Boxplot: log total expenditure\")\n",
        "boxplot(q_data$lhhex12m, main=\"Boxplot: log health expenditure\")\n",
        "boxplot(q_data$age, main=\"Boxplot: age\")\n",
        "\n",
        "par(mfrow = c(1,1))\n",
        "\n",
        "# Simple correlation among continuous vars\n",
        "cor(q_data[, c(\"lhhexp1\", \"lhhex12m\", \"age\")], use=\"complete.obs\")\n"
      ]
    },
    {
      "cell_type": "markdown",
      "id": "e7b80dd3",
      "metadata": {},
      "source": [
        "  \n",
        "> - Majority of observations are rural and male (see proportions).  \n",
        "> - `lhhex12m` contains missing values that should be kept in mind for regression sample size.  \n",
        "> - Expenditure variables look approximately normal; `age` is slightly right-skewed.  \n",
        "> - Boxplots suggest possible outliers in expenditures."
      ]
    },
    {
      "cell_type": "markdown",
      "id": "e153b76e",
      "metadata": {
        "vscode": {
          "languageId": "r"
        }
      },
      "source": [
        "### Q2 — OLS model and interpretation"
      ]
    },
    {
      "cell_type": "code",
      "execution_count": 3,
      "id": "9fd33ffe",
      "metadata": {
        "vscode": {
          "languageId": "r"
        }
      },
      "outputs": [
        {
          "data": {
            "text/plain": [
              "\n",
              "Call:\n",
              "lm(formula = lhhex12m ~ lhhexp1 + farm + urban98 + age + sex, \n",
              "    data = q_data_adj)\n",
              "\n",
              "Residuals:\n",
              "    Min      1Q  Median      3Q     Max \n",
              "-6.5891 -0.9441  0.1066  1.0450  5.7723 \n",
              "\n",
              "Coefficients:\n",
              "              Estimate Std. Error t value Pr(>|t|)    \n",
              "(Intercept)  -1.033299   0.364076  -2.838 0.004556 ** \n",
              "lhhexp1       0.715841   0.036964  19.366  < 2e-16 ***\n",
              "farmfarm      0.034002   0.055252   0.615 0.538312    \n",
              "urban98Urban -0.385190   0.062356  -6.177 7.04e-10 ***\n",
              "age           0.014186   0.001595   8.894  < 2e-16 ***\n",
              "sexfemale     0.176317   0.051252   3.440 0.000586 ***\n",
              "---\n",
              "Signif. codes:  0 '***' 0.001 '**' 0.01 '*' 0.05 '.' 0.1 ' ' 1\n",
              "\n",
              "Residual standard error: 1.526 on 5000 degrees of freedom\n",
              "  (993 observations deleted due to missingness)\n",
              "Multiple R-squared:  0.08373,\tAdjusted R-squared:  0.08281 \n",
              "F-statistic: 91.38 on 5 and 5000 DF,  p-value: < 2.2e-16\n"
            ]
          },
          "metadata": {},
          "output_type": "display_data"
        }
      ],
      "source": [
        "# Recode sex to factor with labels\n",
        "q_data_adj <- q_data |>\n",
        "  dplyr::mutate(sex = dplyr::case_when(\n",
        "    sex == 1 ~ \"male\",\n",
        "    sex == 2 ~ \"female\"\n",
        "  )) |>\n",
        "  dplyr::mutate(sex = factor(sex, levels = c(\"male\",\"female\")))\n",
        "\n",
        "# OLS\n",
        "model_1 <- lm(lhhex12m ~ lhhexp1 + farm + urban98 + age + sex, data = q_data_adj)\n",
        "summary(model_1)"
      ]
    },
    {
      "cell_type": "markdown",
      "id": "855c05c9",
      "metadata": {
        "vscode": {
          "languageId": "r"
        }
      },
      "source": [
        "- `lhhexp1` (total expenditure): positive and significant — higher total spending is associated with higher health spending.  \n",
        "- `age`: positive and significant .  \n",
        "- `urban98`: negative and significant — may reflect access/cost differences.  \n",
        "- `farm`: insignificant.  \n",
        "- `sex` (female vs. male baseline): positive and significant.  \n",
        "- Adjusted R² is low ⇒ health spending variation is largely unexplained by these covariates alone."
      ]
    },
    {
      "cell_type": "markdown",
      "id": "8ad501c4",
      "metadata": {
        "vscode": {
          "languageId": "r"
        }
      },
      "source": [
        "### Q3 — Quantile regression (τ = 0.05 … 0.95 by 0.10)\n",
        "### + Q4"
      ]
    },
    {
      "cell_type": "code",
      "execution_count": 7,
      "id": "f95fd4fa",
      "metadata": {
        "vscode": {
          "languageId": "r"
        }
      },
      "outputs": [
        {
          "name": "stderr",
          "output_type": "stream",
          "text": [
            "Warning message in summary.rq(xi, U = U, ...):\n",
            "\"7 non-positive fis\"\n"
          ]
        },
        {
          "data": {
            "image/png": "[encoded data removed]",
            "text/plain": [
              "Plot with title \"sexfemale\""
            ]
          },
          "metadata": {
            "image/png": {
              "height": 420,
              "width": 420
            }
          },
          "output_type": "display_data"
        }
      ],
      "source": [
        "# quantile regressions across a grid of taus\n",
        "taus <- seq(0.05, 0.95, by = 0.10)\n",
        "qr_model_1 <- rq(lhhex12m ~ lhhexp1 + farm + urban98 + age + sex,\n",
        "                 data = q_data_adj, tau = taus)\n",
        "summary_qr_model_1 <- summary(qr_model_1)\n",
        "\n",
        "# summary plots (coefficients vs quantiles with OLS line)\n",
        "par(mfrow = c(2,3))\n",
        "plot(summary_qr_model_1, mfrow = c(2, 3))\n",
        "par(mfrow = c(1,1))\n"
      ]
    },
    {
      "cell_type": "markdown",
      "id": "ae13cea6",
      "metadata": {},
      "source": [
        "### Interpretation of Quantile Regression Results\n",
        "\n",
        "- The **intercept** is negative for most of the distribution but increases again for the lowest and highest quantiles, suggesting that baseline log health expenditure varies non-linearly across the conditional distribution.  \n",
        "- The coefficient for **`lhhexp1` (log total expenditure)** rises steadily from about 0.2 at the 5th quantile to nearly 1.0 at the 95th quantile, indicating that wealthier households allocate a progressively larger share of spending to health as total expenditure increases.  \n",
        "- The **`farm`** dummy fluctuates around zero, becoming slightly positive in higher quantiles, implying that living on a farm increases health expenditure only among the highest-spending households.  \n",
        "- The **`urban98`** effect is consistently negative across almost all quantiles, meaning that households in urban areas tend to spend less on health than rural ones, conditional on income and other factors.  \n",
        "- The **`age`** effect remains positive and stable, showing that age is associated with higher health expenditure throughout the distribution, although the magnitude is relatively small.  \n",
        "- For **`sex (female)`**, coefficients are mostly positive, suggesting that females generally have higher health expenditure, but the wide confidence bands imply the effect is not uniform or statistically strong across quantiles.  \n",
        "\n",
        "Overall, these results reveal **heterogeneity** in the determinants of health expenditure:  \n",
        "while income elasticity (`lhhexp1`) clearly increases with expenditure level, other socioeconomic variables remain relatively stable or weakly determined across quantiles."
      ]
    },
    {
      "cell_type": "markdown",
      "id": "31d8c04c",
      "metadata": {
        "vscode": {
          "languageId": "r"
        }
      },
      "source": [
        "### Q5 — OLS-by-deciles vs Quantile Regression (single regressor)"
      ]
    },
    {
      "cell_type": "code",
      "execution_count": 9,
      "id": "a47c129f",
      "metadata": {
        "vscode": {
          "languageId": "r"
        }
      },
      "outputs": [
        {
          "data": {
            "image/png": "[encoded data removed]",
            "text/plain": [
              "plot without title"
            ]
          },
          "metadata": {
            "image/png": {
              "height": 420,
              "width": 420
            }
          },
          "output_type": "display_data"
        }
      ],
      "source": [
        "# data for single-regressor comparison\n",
        "original_data <- q_data |> dplyr::select(lhhexp1, lhhex12m)\n",
        "\n",
        "taus2 <- seq(0.1, 1, by = 0.1)\n",
        "\n",
        "# QR slopes by quantile for model with intercept + lhhexp1\n",
        "qr_betas <- sapply(taus2, function(tau) {\n",
        "  coef(rq(lhhex12m ~ lhhexp1, data = original_data, tau = tau))\n",
        "})\n",
        "qr_betas <- t(qr_betas)\n",
        "colnames(qr_betas) <- c(\"Intercept_qr\", \"Slope_qr\")\n",
        "qr_betas <- as.data.frame(qr_betas)\n",
        "qr_betas$tau <- taus2\n",
        "\n",
        "# OLS by decile of response\n",
        "ols_data <- q_data |> dplyr::mutate(decile = dplyr::ntile(lhhex12m, 10))\n",
        "ols_betas <- data.frame()\n",
        "for (i in 1:10) {\n",
        "  decile_data <- dplyr::filter(ols_data, decile == i)\n",
        "  model <- lm(lhhex12m ~ lhhexp1, data = decile_data)\n",
        "  coefs <- coef(model)\n",
        "  ols_betas <- rbind(ols_betas,\n",
        "                     data.frame(decile = i,\n",
        "                                Intercept_ols = coefs[1],\n",
        "                                Slope_ols = coefs[2]))\n",
        "}\n",
        "\n",
        "# Visual comparison\n",
        "library(ggplot2)\n",
        "comparison <- ggplot() +\n",
        "  geom_line(data = qr_betas, aes(x = tau, y = Slope_qr, color = \"Quantile Regression\"), linewidth = 1.1) +\n",
        "  geom_point(data = qr_betas, aes(x = tau, y = Slope_qr, color = \"Quantile Regression\"), size = 2) +\n",
        "  geom_line(data = ols_betas, aes(x = decile/10, y = Slope_ols, color = \"OLS by Decile\"),\n",
        "            linetype = \"dashed\", linewidth = 1) +\n",
        "  geom_point(data = ols_betas, aes(x = decile/10, y = Slope_ols, color = \"OLS by Decile\"), size = 2) +\n",
        "  labs(x = \"Quantile / Decile\", y = \"Slope on lhhexp1\",\n",
        "       title = \"Quantile Regression vs. OLS-on-Deciles (single regressor)\") +\n",
        "  scale_color_manual(values = c(\"Quantile Regression\" = \"blue\", \"OLS by Decile\" = \"red\")) +\n",
        "  theme_minimal()\n",
        "comparison\n"
      ]
    },
    {
      "cell_type": "markdown",
      "id": "10e55c37",
      "metadata": {
        "vscode": {
          "languageId": "r"
        }
      },
      "source": [
        "OLS-on-deciles runs **separate** regressions on subsets and ignores the full conditional distribution, while QR uses **all** data and targets conditional quantiles. The two sets of slopes generally differ; QR is the correct tool for conditional quantile effects."
      ]
    },
    {
      "cell_type": "markdown",
      "id": "7e4a8f83",
      "metadata": {},
      "source": [
        "## Problem 3: MLE \n",
        "### 1) Generating Data Samples\n",
        "\n",
        "We generated random samples from a chi-squared distribution with $k = 8$ degrees of freedom, using sample sizes $n = 5, 10, 20, 40, 100, 200, 500, 1000, 2000$.\n",
        "\n",
        "For each sample, we computed descriptive statistics and plotted histograms with the theoretical chi-squared density\n",
        "\n",
        "$$\n",
        "f(x) = \\frac{1}{2^{k/2}\\Gamma(k/2)}x^{k/2 - 1}e^{-x/2}.\n",
        "$$\n",
        "\n",
        "The visual comparison shows that for small $n$, the empirical distributions are irregular and deviate from the theoretical chi-squared shape, while for large $n$, they become smoother and closely match the theoretical curve, illustrating the Law of Large Numbers.\n",
        "\n"
      ]
    },
    {
      "cell_type": "code",
      "execution_count": null,
      "id": "46713a11",
      "metadata": {
        "vscode": {
          "languageId": "r"
        }
      },
      "outputs": [
        {
          "name": "stdout",
          "output_type": "stream",
          "text": [
            "  n_label     mean       sd       min       q1   median        q3      max\n",
            "1     n=5 8.341436 5.191962 2.1055607 5.059959 7.492108 12.161641 14.88791\n",
            "2    n=10 7.885401 3.598191 2.0288770 5.661100 8.495446 10.029937 12.68277\n",
            "3    n=20 6.413251 2.612193 2.1114387 4.928903 6.321861  7.123200 12.24937\n",
            "4    n=40 7.077079 3.366370 2.4044153 4.553400 6.908670  8.498360 17.35534\n",
            "5   n=100 8.041959 3.900892 0.9707359 5.294277 7.307695  9.880059 20.80013\n",
            "6   n=200 7.806679 3.794252 1.1501435 4.996562 7.374034 10.078777 24.68734\n",
            "7   n=500 7.769699 3.812796 1.1720177 4.977334 7.265764  9.994590 24.82297\n",
            "8  n=1000 7.944449 4.009040 0.9660254 5.019731 7.289491 10.110876 28.82998\n",
            "9  n=2000 8.019619 3.969595 0.7425827 5.143894 7.367688 10.026316 35.05462\n"
          ]
        },
        {
          "data": {
            "image/png": "[encoded data removed]",
            "text/plain": [
              "Plot with title \"n=2000\""
            ]
          },
          "metadata": {
            "image/png": {
              "height": 420,
              "width": 420
            }
          },
          "output_type": "display_data"
        }
      ],
      "source": [
        "set.seed(123)\n",
        "\n",
        "# Parameters\n",
        "k <- 8  \n",
        "ns <- c(5, 10, 20, 40, 100, 200, 500, 1000, 2000)\n",
        "\n",
        "# Generate data\n",
        "samples_list <- lapply(ns, function(n) rchisq(n, df = k))\n",
        "names(samples_list) <- paste0(\"n=\", ns)\n",
        "\n",
        "# Descriptive statistics\n",
        "desc_tbl <- do.call(rbind, lapply(names(samples_list), function(nm) {\n",
        "v <- samples_list[[nm]]\n",
        "qs <- quantile(v, probs = c(0, 0.25, 0.5, 0.75, 1))\n",
        "data.frame(\n",
        "n_label = nm,\n",
        "mean = mean(v),\n",
        "sd = sd(v),\n",
        "min = qs[1],\n",
        "q1 = qs[2],\n",
        "median = qs[3],\n",
        "q3 = qs[4],\n",
        "max = qs[5]\n",
        ")\n",
        "}))\n",
        "row.names(desc_tbl) <- NULL\n",
        "print(desc_tbl)\n",
        "\n",
        "# Visualization\n",
        "par(mfrow = c(3, 3))\n",
        "for (nm in names(samples_list)) {\n",
        "x <- samples_list[[nm]]\n",
        "hist(x, probability = TRUE, main = nm, xlab = \"x\")\n",
        "curve(dchisq(x, df = k), add = TRUE, lwd = 2)\n",
        "}\n",
        "par(mfrow = c(1, 1))"
      ]
    },
    {
      "cell_type": "code",
      "execution_count": null,
      "id": "6746ad2d",
      "metadata": {
        "vscode": {
          "languageId": "r"
        }
      },
      "outputs": [],
      "source": []
    },
    {
      "cell_type": "markdown",
      "id": "0ef96688",
      "metadata": {},
      "source": []
    }
  ],
  "metadata": {
    "kernelspec": {
      "display_name": "R",
      "language": "R",
      "name": "ir"
    },
    "language_info": {
      "codemirror_mode": "r",
      "file_extension": ".r",
      "mimetype": "text/x-r-source",
      "name": "R",
      "pygments_lexer": "r",
      "version": "4.4.2"
    }
  },
  "nbformat": 4,
  "nbformat_minor": 5
}
