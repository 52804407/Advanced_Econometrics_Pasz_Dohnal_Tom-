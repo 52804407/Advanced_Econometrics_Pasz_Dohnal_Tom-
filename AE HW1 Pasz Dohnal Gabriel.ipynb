{
  "cells": [
    {
      "cell_type": "markdown",
      "metadata": {},
      "source": [
        "# Advanced Econometrics (JEM217)– Home Assignment 1 (WS 2025)\n",
        "\n"
      ]
    },
    {
      "cell_type": "markdown",
      "metadata": {},
      "source": [
        "**AI Usage**\n",
        "\n",
        "ChatGPT-5 was used during the preparation of this assignment **solely for grammatical editing and minor code optimization**.  \n",
        "Any sections where AI-assisted code optimization was applied are explicitly indicated within the notebook.\n",
        "\n",
        "## Initial Preparation\n",
        "\n",
        "In this section, we install and load all required R packages necessary for data simulation, estimation, and visualization.  \n",
        "We also set a fixed random seed (`set.seed(123)`) to ensure that all simulated results are fully reproducible.\n"
      ]
    },
    {
      "cell_type": "code",
      "execution_count": 8,
      "metadata": {
        "vscode": {
          "languageId": "r"
        }
      },
      "outputs": [],
      "source": [
        "\n",
        "req_pkgs <- c(\"ggplot2\",\"dplyr\",\"quantreg\",\"lmtest\",\"sandwich\",\"car\",\"stargazer\",\"knitr\")\n",
        "for (p in req_pkgs) {\n",
        "  if (!requireNamespace(p, quietly = TRUE)) {\n",
        "    install.packages(p, repos = \"https://cloud.r-project.org\")\n",
        "  }\n",
        "}\n",
        "library(ggplot2)\n",
        "library(dplyr)\n",
        "library(quantreg)\n",
        "library(lmtest)\n",
        "library(sandwich)\n",
        "library(car)\n",
        "library(stargazer)\n",
        "library(knitr)\n",
        "\n",
        "set.seed(123) \n"
      ]
    },
    {
      "cell_type": "markdown",
      "metadata": {},
      "source": [
        "## Problem 1: Simulating Used Car Prices \n",
        "### 1) Data Simulation\n",
        "\n",
        "We simulated according to the data‑generating process described in the assignment:\n",
        "$\n",
        "\\text{price}_i = 1000 - 0.0005\\,\\text{milage}_i^2 - 5\\,\\text{years\\_old}_i + 50\\,\\text{convertible}_i + 100\\,\\text{luxury}_i + \\varepsilon_i,\\quad \\varepsilon_i\\sim\\mathcal{N}(0,15).\n",
        "$\n",
        "\n",
        "We also build a `data.frame` called `cars`.\n",
        "\n",
        "We chose relatively small sample size 200 to obtain \"interesting results\" as was mentioned in the assignment."
      ]
    },
    {
      "cell_type": "code",
      "execution_count": null,
      "metadata": {
        "vscode": {
          "languageId": "r"
        }
      },
      "outputs": [
        {
          "data": {
            "text/html": [
              "<table class=\"dataframe\">\n",
              "<caption>A data.frame: 6 × 5</caption>\n",
              "<thead>\n",
              "\t<tr><th></th><th scope=col>price</th><th scope=col>milage</th><th scope=col>years_old</th><th scope=col>convertible</th><th scope=col>luxury</th></tr>\n",
              "\t<tr><th></th><th scope=col>&lt;dbl&gt;</th><th scope=col>&lt;dbl&gt;</th><th scope=col>&lt;int&gt;</th><th scope=col>&lt;int&gt;</th><th scope=col>&lt;int&gt;</th></tr>\n",
              "</thead>\n",
              "<tbody>\n",
              "\t<tr><th scope=row>1</th><td> 652.9847</td><td> 831.8573</td><td> 8</td><td>1</td><td>0</td></tr>\n",
              "\t<tr><th scope=row>2</th><td> 594.6920</td><td> 930.9468</td><td> 4</td><td>1</td><td>0</td></tr>\n",
              "\t<tr><th scope=row>3</th><td>-122.2930</td><td>1467.6125</td><td>10</td><td>0</td><td>0</td></tr>\n",
              "\t<tr><th scope=row>4</th><td> 443.0286</td><td>1021.1525</td><td>14</td><td>1</td><td>0</td></tr>\n",
              "\t<tr><th scope=row>5</th><td> 417.6969</td><td>1038.7863</td><td> 8</td><td>0</td><td>0</td></tr>\n",
              "\t<tr><th scope=row>6</th><td>-207.3756</td><td>1514.5195</td><td>15</td><td>0</td><td>0</td></tr>\n",
              "</tbody>\n",
              "</table>\n"
            ],
            "text/latex": [
              "A data.frame: 6 × 5\n",
              "\\begin{tabular}{r|lllll}\n",
              "  & price & milage & years\\_old & convertible & luxury\\\\\n",
              "  & <dbl> & <dbl> & <int> & <int> & <int>\\\\\n",
              "\\hline\n",
              "\t1 &  652.9847 &  831.8573 &  8 & 1 & 0\\\\\n",
              "\t2 &  594.6920 &  930.9468 &  4 & 1 & 0\\\\\n",
              "\t3 & -122.2930 & 1467.6125 & 10 & 0 & 0\\\\\n",
              "\t4 &  443.0286 & 1021.1525 & 14 & 1 & 0\\\\\n",
              "\t5 &  417.6969 & 1038.7863 &  8 & 0 & 0\\\\\n",
              "\t6 & -207.3756 & 1514.5195 & 15 & 0 & 0\\\\\n",
              "\\end{tabular}\n"
            ],
            "text/markdown": [
              "\n",
              "A data.frame: 6 × 5\n",
              "\n",
              "| <!--/--> | price &lt;dbl&gt; | milage &lt;dbl&gt; | years_old &lt;int&gt; | convertible &lt;int&gt; | luxury &lt;int&gt; |\n",
              "|---|---|---|---|---|---|\n",
              "| 1 |  652.9847 |  831.8573 |  8 | 1 | 0 |\n",
              "| 2 |  594.6920 |  930.9468 |  4 | 1 | 0 |\n",
              "| 3 | -122.2930 | 1467.6125 | 10 | 0 | 0 |\n",
              "| 4 |  443.0286 | 1021.1525 | 14 | 1 | 0 |\n",
              "| 5 |  417.6969 | 1038.7863 |  8 | 0 | 0 |\n",
              "| 6 | -207.3756 | 1514.5195 | 15 | 0 | 0 |\n",
              "\n"
            ],
            "text/plain": [
              "  price     milage    years_old convertible luxury\n",
              "1  652.9847  831.8573  8        1           0     \n",
              "2  594.6920  930.9468  4        1           0     \n",
              "3 -122.2930 1467.6125 10        0           0     \n",
              "4  443.0286 1021.1525 14        1           0     \n",
              "5  417.6969 1038.7863  8        0           0     \n",
              "6 -207.3756 1514.5195 15        0           0     "
            ]
          },
          "metadata": {},
          "output_type": "display_data"
        }
      ],
      "source": [
        "\n",
        "N <- 200\n",
        "\n",
        "# Explanatory variables (X)\n",
        "milage      <- rnorm(N, mean = 1000, sd = 300)\n",
        "years_old   <- sample(2:15, N, replace = TRUE)\n",
        "convertible <- rbinom(N, 1, 0.3)\n",
        "luxury      <- rbinom(N, 1, 0.2)\n",
        "\n",
        "# Error term\n",
        "epsilon <- rnorm(N, mean = 0, sd = 15)\n",
        "\n",
        "# Outcome\n",
        "price <- 1000 - 0.0005 * milage^2 - 5 * years_old + 50 * convertible + 100 * luxury + epsilon\n",
        "\n",
        "cars <- data.frame(price, milage, years_old, convertible, luxury)\n",
        "\n",
        "# Peek\n",
        "head(cars)\n"
      ]
    },
    {
      "cell_type": "markdown",
      "metadata": {},
      "source": [
        "### 1a) Descriptive Statistics & Figures\n",
        "\n",
        "We report summary statistics, a scatterplot matrix, and selected plots. The values are expected.\n"
      ]
    },
    {
      "cell_type": "code",
      "execution_count": null,
      "metadata": {
        "vscode": {
          "languageId": "r"
        }
      },
      "outputs": [
        {
          "data": {
            "text/plain": [
              "     price            milage         years_old      convertible  \n",
              " Min.   :-987.8   Min.   : 307.2   Min.   : 2.00   Min.   :0.00  \n",
              " 1st Qu.: 295.6   1st Qu.: 812.3   1st Qu.: 5.00   1st Qu.:0.00  \n",
              " Median : 476.1   Median : 982.4   Median : 9.00   Median :0.00  \n",
              " Mean   : 449.8   Mean   : 997.4   Mean   : 8.64   Mean   :0.29  \n",
              " 3rd Qu.: 663.6   3rd Qu.:1170.5   3rd Qu.:12.00   3rd Qu.:1.00  \n",
              " Max.   :1022.9   Max.   :1972.3   Max.   :15.00   Max.   :1.00  \n",
              "     luxury    \n",
              " Min.   :0.00  \n",
              " 1st Qu.:0.00  \n",
              " Median :0.00  \n",
              " Mean   :0.17  \n",
              " 3rd Qu.:0.00  \n",
              " Max.   :1.00  "
            ]
          },
          "metadata": {},
          "output_type": "display_data"
        },
        {
          "data": {
            "image/png": "[encoded data removed]",
            "text/plain": [
              "plot without title"
            ]
          },
          "metadata": {
            "image/png": {
              "height": 420,
              "width": 420
            }
          },
          "output_type": "display_data"
        },
        {
          "data": {
            "image/png": "[encoded data removed]",
            "text/plain": [
              "plot without title"
            ]
          },
          "metadata": {
            "image/png": {
              "height": 420,
              "width": 420
            }
          },
          "output_type": "display_data"
        }
      ],
      "source": [
        "# Summary statistics\n",
        "summary(cars)\n",
        "\n",
        "# A scatterplot matrix of all variables\n",
        "pairs(cars, main = \"Scatterplot Matrix of Simulated Variables\")\n",
        "\n",
        "# Price vs Milage colored by luxury brand\n",
        "ggplot(cars, aes(x = milage, y = price, color = factor(luxury))) +\n",
        "  geom_point(alpha = 0.7) +\n",
        "  labs(title = \"Price vs. Milage (colored by Luxury Brand)\",\n",
        "       color = \"Luxury\") +\n",
        "  theme_minimal()\n",
        "\n",
        "\n",
        "\n"
      ]
    },
    {
      "cell_type": "markdown",
      "id": "5b30aa4c",
      "metadata": {},
      "source": [
        "### 2) Misspecified Linear Model\n",
        "\n",
        "We (incorrectly) omit the $\\text{milage}^2$ term and include only a linear effect of milage:\n",
        "$\n",
        "\\text{price}_i = \\alpha_0 + \\alpha_1\\,\\text{milage}_i + \\alpha_2\\,\\text{years\\_old}_i + \\alpha_3\\,\\text{convertible}_i + \\alpha_4\\,\\text{luxury}_i + u_i.\n",
        "$\n",
        "\n",
        "This induces functional form misspecification $\\Rightarrow$ biased estimates. Specifically estimates of milage (-1.05) appear very different compared to the true parameter (-0.0005). This is caused by the efect of the linear parameter which is trying to \"soak up\" the true effect that is non-linear. Intercept is also biased (roughly 500 higher), it is also caused by the functional form misspecification. \n",
        "\n",
        "Since the other variables are generater without correlation to milage they are exogenous. This can be proven mathematically, since $\\text{Bias}(\\beta_j) = \\gamma \\cdot \\pi_j$, where $\\gamma$ is the effect of ommited variable (in this case $\\text{milage}^2$), $j$ is the index of the other variables and $\\pi_j$ is the slope from regressing the omitted variable on regressor $j$. We know that $\\pi_j = 0$ and thus bias is zero $\\Rightarrow$ those estimates are unbiased and consistent. We can see this visually since those estimates are very close to true value. The difference is caused by small sample size. \n",
        "\n",
        "To test this we can first check correlation between regressors and the omited variable. If the correlation is zero as sample size grows this indicates unbiased results. Moreover we did Ramsey Reset test to check functional form misspecification and the small p-value below indicates we can reject $H_0$: Correctly Specified with high confidence (more than 99\\%)"
      ]
    },
    {
      "cell_type": "code",
      "execution_count": 17,
      "metadata": {
        "vscode": {
          "languageId": "r"
        }
      },
      "outputs": [
        {
          "data": {
            "text/plain": [
              "\n",
              "Call:\n",
              "lm(formula = price ~ milage + years_old + convertible + luxury, \n",
              "    data = cars)\n",
              "\n",
              "Residuals:\n",
              "    Min      1Q  Median      3Q     Max \n",
              "-400.48  -14.46   15.99   35.48   73.31 \n",
              "\n",
              "Coefficients:\n",
              "              Estimate Std. Error t value Pr(>|t|)    \n",
              "(Intercept) 1509.35641   18.22953  82.797  < 2e-16 ***\n",
              "milage        -1.04522    0.01507 -69.342  < 2e-16 ***\n",
              "years_old     -5.86401    1.04802  -5.595 7.38e-08 ***\n",
              "convertible   61.21950    9.34337   6.552 4.93e-10 ***\n",
              "luxury        93.42512   11.26295   8.295 1.76e-14 ***\n",
              "---\n",
              "Signif. codes:  0 '***' 0.001 '**' 0.01 '*' 0.05 '.' 0.1 ' ' 1\n",
              "\n",
              "Residual standard error: 59.43 on 195 degrees of freedom\n",
              "Multiple R-squared:  0.9646,\tAdjusted R-squared:  0.9638 \n",
              "F-statistic:  1327 on 4 and 195 DF,  p-value: < 2.2e-16\n"
            ]
          },
          "metadata": {},
          "output_type": "display_data"
        },
        {
          "data": {
            "text/html": [
              "0.981937942963174"
            ],
            "text/latex": [
              "0.981937942963174"
            ],
            "text/markdown": [
              "0.981937942963174"
            ],
            "text/plain": [
              "[1] 0.9819379"
            ]
          },
          "metadata": {},
          "output_type": "display_data"
        },
        {
          "data": {
            "text/html": [
              "0.0700434358474055"
            ],
            "text/latex": [
              "0.0700434358474055"
            ],
            "text/markdown": [
              "0.0700434358474055"
            ],
            "text/plain": [
              "[1] 0.07004344"
            ]
          },
          "metadata": {},
          "output_type": "display_data"
        },
        {
          "data": {
            "text/html": [
              "-0.141308075192403"
            ],
            "text/latex": [
              "-0.141308075192403"
            ],
            "text/markdown": [
              "-0.141308075192403"
            ],
            "text/plain": [
              "[1] -0.1413081"
            ]
          },
          "metadata": {},
          "output_type": "display_data"
        },
        {
          "data": {
            "text/html": [
              "-0.0495340173617762"
            ],
            "text/latex": [
              "-0.0495340173617762"
            ],
            "text/markdown": [
              "-0.0495340173617762"
            ],
            "text/plain": [
              "[1] -0.04953402"
            ]
          },
          "metadata": {},
          "output_type": "display_data"
        },
        {
          "data": {
            "text/plain": [
              "\n",
              "\tRESET test\n",
              "\n",
              "data:  model_wrong\n",
              "RESET = 716.76, df1 = 2, df2 = 193, p-value < 2.2e-16\n"
            ]
          },
          "metadata": {},
          "output_type": "display_data"
        }
      ],
      "source": [
        "model_wrong <- lm(price ~ milage + years_old + convertible + luxury, data = cars)\n",
        "summary(model_wrong)\n",
        "\n",
        "cor(cars$milage, cars$milage^2)      \n",
        "cor(cars$years_old, cars$milage^2)   \n",
        "cor(cars$convertible, cars$milage^2) \n",
        "cor(cars$luxury, cars$milage^2)\n",
        "resettest(model_wrong, power = 2:3)"
      ]
    },
    {
      "cell_type": "markdown",
      "metadata": {},
      "source": [
        "### 3) Correct Functional Specification\n",
        "\n",
        "Now we estimated the true functional form with $\\text{milage}^2$:\n",
        "$\n",
        "\\text{price}_i = \\alpha_0 + \\beta_1\\,\\text{milage}_i^2 + \\beta_2\\,\\text{years\\_old}_i + \\beta_3\\,\\text{convertible}_i + \\beta_4\\,\\text{luxury}_i + \\varepsilon_i.\n",
        "$\n",
        "\n",
        "We also test whether the estimated coefficients equal the true values via Wald tests: $1000, -0.0005, -5, 50, 100$. The Wald test has p-value of 31.5\\%. This implies that we cannot reject null hypothesis with any meaningful confidence (for example $> 90\\%$), and thus we cannot say that those estimates **are not** equal to the true values.\n",
        "\n",
        "**We did use AI** when conducting the wald test in order to obtain optimal code"
      ]
    },
    {
      "cell_type": "code",
      "execution_count": 16,
      "metadata": {
        "vscode": {
          "languageId": "r"
        }
      },
      "outputs": [
        {
          "data": {
            "text/plain": [
              "\n",
              "Call:\n",
              "lm(formula = price ~ I(milage^2) + years_old + convertible + \n",
              "    luxury, data = cars)\n",
              "\n",
              "Residuals:\n",
              "    Min      1Q  Median      3Q     Max \n",
              "-41.625  -9.810   0.211   9.937  39.366 \n",
              "\n",
              "Coefficients:\n",
              "              Estimate Std. Error t value Pr(>|t|)    \n",
              "(Intercept)  1.002e+03  3.180e+00  315.03   <2e-16 ***\n",
              "I(milage^2) -5.002e-04  1.752e-06 -285.54   <2e-16 ***\n",
              "years_old   -5.373e+00  2.594e-01  -20.71   <2e-16 ***\n",
              "convertible  4.909e+01  2.317e+00   21.19   <2e-16 ***\n",
              "luxury       1.045e+02  2.784e+00   37.53   <2e-16 ***\n",
              "---\n",
              "Signif. codes:  0 '***' 0.001 '**' 0.01 '*' 0.05 '.' 0.1 ' ' 1\n",
              "\n",
              "Residual standard error: 14.7 on 195 degrees of freedom\n",
              "Multiple R-squared:  0.9978,\tAdjusted R-squared:  0.9978 \n",
              "F-statistic: 2.243e+04 on 4 and 195 DF,  p-value: < 2.2e-16\n"
            ]
          },
          "metadata": {},
          "output_type": "display_data"
        },
        {
          "data": {
            "text/html": [
              "<table class=\"dataframe\">\n",
              "<caption>A anova: 2 × 6</caption>\n",
              "<thead>\n",
              "\t<tr><th></th><th scope=col>Res.Df</th><th scope=col>RSS</th><th scope=col>Df</th><th scope=col>Sum of Sq</th><th scope=col>F</th><th scope=col>Pr(&gt;F)</th></tr>\n",
              "\t<tr><th></th><th scope=col>&lt;dbl&gt;</th><th scope=col>&lt;dbl&gt;</th><th scope=col>&lt;dbl&gt;</th><th scope=col>&lt;dbl&gt;</th><th scope=col>&lt;dbl&gt;</th><th scope=col>&lt;dbl&gt;</th></tr>\n",
              "</thead>\n",
              "<tbody>\n",
              "\t<tr><th scope=row>1</th><td>200</td><td>43443.49</td><td>NA</td><td>      NA</td><td>      NA</td><td>       NA</td></tr>\n",
              "\t<tr><th scope=row>2</th><td>195</td><td>42157.81</td><td> 5</td><td>1285.688</td><td>1.189384</td><td>0.3157863</td></tr>\n",
              "</tbody>\n",
              "</table>\n"
            ],
            "text/latex": [
              "A anova: 2 × 6\n",
              "\\begin{tabular}{r|llllll}\n",
              "  & Res.Df & RSS & Df & Sum of Sq & F & Pr(>F)\\\\\n",
              "  & <dbl> & <dbl> & <dbl> & <dbl> & <dbl> & <dbl>\\\\\n",
              "\\hline\n",
              "\t1 & 200 & 43443.49 & NA &       NA &       NA &        NA\\\\\n",
              "\t2 & 195 & 42157.81 &  5 & 1285.688 & 1.189384 & 0.3157863\\\\\n",
              "\\end{tabular}\n"
            ],
            "text/markdown": [
              "\n",
              "A anova: 2 × 6\n",
              "\n",
              "| <!--/--> | Res.Df &lt;dbl&gt; | RSS &lt;dbl&gt; | Df &lt;dbl&gt; | Sum of Sq &lt;dbl&gt; | F &lt;dbl&gt; | Pr(&gt;F) &lt;dbl&gt; |\n",
              "|---|---|---|---|---|---|---|\n",
              "| 1 | 200 | 43443.49 | NA |       NA |       NA |        NA |\n",
              "| 2 | 195 | 42157.81 |  5 | 1285.688 | 1.189384 | 0.3157863 |\n",
              "\n"
            ],
            "text/plain": [
              "  Res.Df RSS      Df Sum of Sq F        Pr(>F)   \n",
              "1 200    43443.49 NA       NA        NA        NA\n",
              "2 195    42157.81  5 1285.688  1.189384 0.3157863"
            ]
          },
          "metadata": {},
          "output_type": "display_data"
        }
      ],
      "source": [
        "model_true <- lm(price ~ I(milage^2) + years_old + convertible + luxury, data = cars)\n",
        "summary(model_true)\n",
        "\n",
        "# Wald tests for equality to true parameters\n",
        "lh_res <- car::linearHypothesis(\n",
        "  model_true,\n",
        "  c(\"(Intercept) = 1000\",\n",
        "    \"I(milage^2) = -0.0005\",\n",
        "    \"years_old = -5\",\n",
        "    \"convertible = 50\",\n",
        "    \"luxury = 100\")\n",
        ")\n",
        "lh_res\n",
        "\n"
      ]
    },
    {
      "cell_type": "markdown",
      "metadata": {},
      "source": [
        "### 4) Heteroskedasticity Scenario and Corrections\n",
        "\n",
        "We now simulated a new outcome where the error term is proportional to milage:\n",
        "$\n",
        "\\text{price}_i = 1000 - 0.0005\\,\\text{milage}_i^2 - 5\\,\\text{years\\_old}_i + 50\\,\\text{convertible}_i + 100\\,\\text{luxury}_i + \\text{milage}_i\\ \\cdot \\varepsilon_i.\n",
        "$\n",
        "\n",
        "\n",
        "\n",
        "Since the multiplicative heteroskedasticity is proportional to mileage. OLS coefficients remain unbiased and consistent (exogeneity holds), but usual OLS standard errors are invalid and efficiency is lost. The B-P test has very low p-value thus we reject null hypothesis of homoskedasticity. With use of robust (HC1) SEs we fixed the inference with misspecified variance. Next we divided the whole model with $\\frac{1}{\\text{milage}}$, which is the true form of heteroskedasticity further improving SEs, but in proces we changed the interpetation of the intercept which is now $\\frac{\\text{intercept}}{\\text{milage}}$, similarly ve divided all other variables including $y$ and we now only have linear effect of milage, thus our interpretation changes."
      ]
    },
    {
      "cell_type": "code",
      "execution_count": null,
      "metadata": {
        "vscode": {
          "languageId": "r"
        }
      },
      "outputs": [
        {
          "data": {
            "text/plain": [
              "\n",
              "Call:\n",
              "lm(formula = price2 ~ I(milage^2) + years_old + convertible + \n",
              "    luxury, data = cars2)\n",
              "\n",
              "Residuals:\n",
              "   Min     1Q Median     3Q    Max \n",
              "-58767  -7744    623   9595  59555 \n",
              "\n",
              "Coefficients:\n",
              "              Estimate Std. Error t value Pr(>|t|)  \n",
              "(Intercept)  5.359e+03  3.348e+03   1.601   0.1110  \n",
              "I(milage^2)  2.569e-04  1.844e-03   0.139   0.8893  \n",
              "years_old   -5.964e+02  2.731e+02  -2.184   0.0302 *\n",
              "convertible  1.836e+03  2.439e+03   0.753   0.4525  \n",
              "luxury      -1.244e+03  2.931e+03  -0.425   0.6716  \n",
              "---\n",
              "Signif. codes:  0 '***' 0.001 '**' 0.01 '*' 0.05 '.' 0.1 ' ' 1\n",
              "\n",
              "Residual standard error: 15480 on 195 degrees of freedom\n",
              "Multiple R-squared:  0.02921,\tAdjusted R-squared:  0.009297 \n",
              "F-statistic: 1.467 on 4 and 195 DF,  p-value: 0.2138\n"
            ]
          },
          "metadata": {},
          "output_type": "display_data"
        },
        {
          "data": {
            "text/plain": [
              "\n",
              "\tstudentized Breusch-Pagan test\n",
              "\n",
              "data:  model_het\n",
              "BP = 37.088, df = 4, p-value = 1.728e-07\n"
            ]
          },
          "metadata": {},
          "output_type": "display_data"
        },
        {
          "data": {
            "text/plain": [
              "\n",
              "t test of coefficients:\n",
              "\n",
              "               Estimate  Std. Error t value Pr(>|t|)  \n",
              "(Intercept)  5.3593e+03  3.8160e+03  1.4044  0.16178  \n",
              "I(milage^2)  2.5692e-04  2.9130e-03  0.0882  0.92981  \n",
              "years_old   -5.9641e+02  2.7156e+02 -2.1963  0.02925 *\n",
              "convertible  1.8359e+03  2.1942e+03  0.8367  0.40376  \n",
              "luxury      -1.2442e+03  3.4768e+03 -0.3579  0.72083  \n",
              "---\n",
              "Signif. codes:  0 '***' 0.001 '**' 0.01 '*' 0.05 '.' 0.1 ' ' 1\n"
            ]
          },
          "metadata": {},
          "output_type": "display_data"
        },
        {
          "data": {
            "text/plain": [
              "\n",
              "Call:\n",
              "lm(formula = price2_adj ~ milage2_adj + years_adj + convertible + \n",
              "    luxury, data = cars2)\n",
              "\n",
              "Residuals:\n",
              "    Min      1Q  Median      3Q     Max \n",
              "-43.457  -8.863  -0.087   9.836  38.537 \n",
              "\n",
              "Coefficients:\n",
              "              Estimate Std. Error t value Pr(>|t|)  \n",
              "(Intercept)  1.178e+01  5.745e+00   2.051   0.0416 *\n",
              "milage2_adj -6.954e-03  4.199e-03  -1.656   0.0993 .\n",
              "years_adj   -4.099e+02  2.202e+02  -1.861   0.0642 .\n",
              "convertible  9.042e-01  2.280e+00   0.397   0.6921  \n",
              "luxury      -1.120e+00  2.738e+00  -0.409   0.6828  \n",
              "---\n",
              "Signif. codes:  0 '***' 0.001 '**' 0.01 '*' 0.05 '.' 0.1 ' ' 1\n",
              "\n",
              "Residual standard error: 14.47 on 195 degrees of freedom\n",
              "Multiple R-squared:  0.02431,\tAdjusted R-squared:  0.004293 \n",
              "F-statistic: 1.215 on 4 and 195 DF,  p-value: 0.3059\n"
            ]
          },
          "metadata": {},
          "output_type": "display_data"
        }
      ],
      "source": [
        "# Multiplicative heteroskedasticity\n",
        "epsilon2 <- rnorm(N, 0, 15)\n",
        "price2 <- 1000 - 0.0005 * milage^2 - 5 * years_old + 50 * convertible + 100 * luxury + milage * epsilon2\n",
        "\n",
        "cars2 <- data.frame(price2, milage, years_old, convertible, luxury)\n",
        "\n",
        "# \"True\" structural regressors \n",
        "model_het <- lm(price2 ~ I(milage^2) + years_old + convertible + luxury, data = cars2)\n",
        "summary(model_het)\n",
        "\n",
        "# Breusch-Pagan test for heteroskedasticity\n",
        "bp <- bptest(model_het)\n",
        "bp\n",
        "\n",
        "# Robust standard errors\n",
        "robust_vcov <- vcovHC(model_het, type = \"HC1\")\n",
        "robust_se <- sqrt(diag(robust_vcov))\n",
        "\n",
        "# Coefficients with robust SEs\n",
        "lmtest::coeftest(model_het, vcov = robust_vcov)\n",
        "\n",
        "# Known-form correction: dividing both sides by milage\n",
        "cars2 <- cars2 %>% mutate(\n",
        "  price2_adj   = price2 / milage,\n",
        "  milage2_adj  = (milage^2) / milage,   \n",
        "  years_adj    = years_old / milage\n",
        ")\n",
        "\n",
        "model_corrected <- lm(price2_adj ~ milage2_adj + years_adj + convertible + luxury, data = cars2)\n",
        "summary(model_corrected)\n",
        "\n"
      ]
    },
    {
      "cell_type": "code",
      "execution_count": null,
      "id": "7f22c69f",
      "metadata": {
        "vscode": {
          "languageId": "r"
        }
      },
      "outputs": [],
      "source": []
    },
    {
      "cell_type": "markdown",
      "metadata": {},
      "source": [
        "### 5) Quantile Regression (τ = 0.05 to 0.95 by 0.05)\n",
        "\n",
        "We estimated quantile regressions for the correctly specified model and plot how key coefficients vary across quantiles. This reveals distributional heterogeneity beyond the conditional mean. We can see that the estimates of different quantiles vary singificantly, for example for $\\text{milage}^2$ variable. This implies that quantile regression can uncover deeper relationships of this dataset."
      ]
    },
    {
      "cell_type": "code",
      "execution_count": null,
      "metadata": {
        "vscode": {
          "languageId": "r"
        }
      },
      "outputs": [
        {
          "data": {
            "text/html": [
              "<table class=\"dataframe\">\n",
              "<caption>A data.frame: 6 × 6</caption>\n",
              "<thead>\n",
              "\t<tr><th></th><th scope=col>(Intercept)</th><th scope=col>I(milage^2)</th><th scope=col>years_old</th><th scope=col>convertible</th><th scope=col>luxury</th><th scope=col>tau</th></tr>\n",
              "\t<tr><th></th><th scope=col>&lt;dbl&gt;</th><th scope=col>&lt;dbl&gt;</th><th scope=col>&lt;dbl&gt;</th><th scope=col>&lt;dbl&gt;</th><th scope=col>&lt;dbl&gt;</th><th scope=col>&lt;dbl&gt;</th></tr>\n",
              "</thead>\n",
              "<tbody>\n",
              "\t<tr><th scope=row>1</th><td>977.5517</td><td>-0.0005007882</td><td>-4.893971</td><td>45.13564</td><td> 90.68729</td><td>0.05</td></tr>\n",
              "\t<tr><th scope=row>2</th><td>979.2472</td><td>-0.0004983454</td><td>-5.138985</td><td>48.22828</td><td>108.28120</td><td>0.10</td></tr>\n",
              "\t<tr><th scope=row>3</th><td>985.9332</td><td>-0.0004989380</td><td>-5.478099</td><td>50.12994</td><td>107.91111</td><td>0.15</td></tr>\n",
              "\t<tr><th scope=row>4</th><td>986.8641</td><td>-0.0004993317</td><td>-5.378036</td><td>52.00613</td><td>106.61015</td><td>0.20</td></tr>\n",
              "\t<tr><th scope=row>5</th><td>992.3923</td><td>-0.0005007132</td><td>-5.407758</td><td>49.08453</td><td>107.27943</td><td>0.25</td></tr>\n",
              "\t<tr><th scope=row>6</th><td>995.8403</td><td>-0.0005014957</td><td>-5.471076</td><td>49.14202</td><td>105.99357</td><td>0.30</td></tr>\n",
              "</tbody>\n",
              "</table>\n"
            ],
            "text/latex": [
              "A data.frame: 6 × 6\n",
              "\\begin{tabular}{r|llllll}\n",
              "  & (Intercept) & I(milage\\textasciicircum{}2) & years\\_old & convertible & luxury & tau\\\\\n",
              "  & <dbl> & <dbl> & <dbl> & <dbl> & <dbl> & <dbl>\\\\\n",
              "\\hline\n",
              "\t1 & 977.5517 & -0.0005007882 & -4.893971 & 45.13564 &  90.68729 & 0.05\\\\\n",
              "\t2 & 979.2472 & -0.0004983454 & -5.138985 & 48.22828 & 108.28120 & 0.10\\\\\n",
              "\t3 & 985.9332 & -0.0004989380 & -5.478099 & 50.12994 & 107.91111 & 0.15\\\\\n",
              "\t4 & 986.8641 & -0.0004993317 & -5.378036 & 52.00613 & 106.61015 & 0.20\\\\\n",
              "\t5 & 992.3923 & -0.0005007132 & -5.407758 & 49.08453 & 107.27943 & 0.25\\\\\n",
              "\t6 & 995.8403 & -0.0005014957 & -5.471076 & 49.14202 & 105.99357 & 0.30\\\\\n",
              "\\end{tabular}\n"
            ],
            "text/markdown": [
              "\n",
              "A data.frame: 6 × 6\n",
              "\n",
              "| <!--/--> | (Intercept) &lt;dbl&gt; | I(milage^2) &lt;dbl&gt; | years_old &lt;dbl&gt; | convertible &lt;dbl&gt; | luxury &lt;dbl&gt; | tau &lt;dbl&gt; |\n",
              "|---|---|---|---|---|---|---|\n",
              "| 1 | 977.5517 | -0.0005007882 | -4.893971 | 45.13564 |  90.68729 | 0.05 |\n",
              "| 2 | 979.2472 | -0.0004983454 | -5.138985 | 48.22828 | 108.28120 | 0.10 |\n",
              "| 3 | 985.9332 | -0.0004989380 | -5.478099 | 50.12994 | 107.91111 | 0.15 |\n",
              "| 4 | 986.8641 | -0.0004993317 | -5.378036 | 52.00613 | 106.61015 | 0.20 |\n",
              "| 5 | 992.3923 | -0.0005007132 | -5.407758 | 49.08453 | 107.27943 | 0.25 |\n",
              "| 6 | 995.8403 | -0.0005014957 | -5.471076 | 49.14202 | 105.99357 | 0.30 |\n",
              "\n"
            ],
            "text/plain": [
              "  (Intercept) I(milage^2)   years_old convertible luxury    tau \n",
              "1 977.5517    -0.0005007882 -4.893971 45.13564     90.68729 0.05\n",
              "2 979.2472    -0.0004983454 -5.138985 48.22828    108.28120 0.10\n",
              "3 985.9332    -0.0004989380 -5.478099 50.12994    107.91111 0.15\n",
              "4 986.8641    -0.0004993317 -5.378036 52.00613    106.61015 0.20\n",
              "5 992.3923    -0.0005007132 -5.407758 49.08453    107.27943 0.25\n",
              "6 995.8403    -0.0005014957 -5.471076 49.14202    105.99357 0.30"
            ]
          },
          "metadata": {},
          "output_type": "display_data"
        },
        {
          "data": {
            "image/png": "[encoded data removed]",
            "text/plain": [
              "plot without title"
            ]
          },
          "metadata": {
            "image/png": {
              "height": 420,
              "width": 420
            }
          },
          "output_type": "display_data"
        }
      ],
      "source": [
        "taus <- seq(0.05, 0.95, by = 0.05)\n",
        "qr_models <- lapply(taus, function(tau) {\n",
        "  quantreg::rq(price ~ I(milage^2) + years_old + convertible + luxury, data = cars, tau = tau)\n",
        "})\n",
        "\n",
        "# Coefficients\n",
        "coef_mat <- sapply(qr_models, coef)\n",
        "coef_df <- as.data.frame(t(coef_mat))\n",
        "coef_df$tau <- taus\n",
        "\n",
        "head(coef_df)\n",
        "\n",
        "# Plots\n",
        "  ggplot(coef_df, aes(x = tau, y = `I(milage^2)`)) +\n",
        "    geom_line() +\n",
        "    geom_hline(yintercept = coef(model_true)[\"I(milage^2)\"], linetype = \"dashed\") +\n",
        "    labs(title = \"Quantile Regression: Coefficient on milage^2 across τ\",\n",
        "        x = \"Quantile (τ)\", y = \"Coefficient\") +\n",
        "    theme_minimal()\n",
        "\n",
        "\n"
      ]
    }
  ],
  "metadata": {
    "kernelspec": {
      "display_name": "R",
      "language": "R",
      "name": "ir"
    },
    "language_info": {
      "codemirror_mode": "r",
      "file_extension": ".r",
      "mimetype": "text/x-r-source",
      "name": "R",
      "pygments_lexer": "r",
      "version": "4.4.2"
    }
  },
  "nbformat": 4,
  "nbformat_minor": 5
}
